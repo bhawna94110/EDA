{
 "cells": [
  {
   "cell_type": "code",
   "execution_count": 2,
   "id": "d0507362",
   "metadata": {},
   "outputs": [],
   "source": [
    "import numpy as np\n",
    "import pandas as pd\n",
    "import matplotlib.pyplot as plt\n",
    "import seaborn as sns"
   ]
  },
  {
   "cell_type": "code",
   "execution_count": 6,
   "id": "97481490",
   "metadata": {},
   "outputs": [],
   "source": [
    "data = pd.read_csv(\"./Iris.csv\")"
   ]
  },
  {
   "cell_type": "code",
   "execution_count": 7,
   "id": "806feae0",
   "metadata": {},
   "outputs": [
    {
     "data": {
      "text/html": [
       "<div>\n",
       "<style scoped>\n",
       "    .dataframe tbody tr th:only-of-type {\n",
       "        vertical-align: middle;\n",
       "    }\n",
       "\n",
       "    .dataframe tbody tr th {\n",
       "        vertical-align: top;\n",
       "    }\n",
       "\n",
       "    .dataframe thead th {\n",
       "        text-align: right;\n",
       "    }\n",
       "</style>\n",
       "<table border=\"1\" class=\"dataframe\">\n",
       "  <thead>\n",
       "    <tr style=\"text-align: right;\">\n",
       "      <th></th>\n",
       "      <th>Id</th>\n",
       "      <th>SepalLengthCm</th>\n",
       "      <th>SepalWidthCm</th>\n",
       "      <th>PetalLengthCm</th>\n",
       "      <th>PetalWidthCm</th>\n",
       "      <th>Species</th>\n",
       "    </tr>\n",
       "  </thead>\n",
       "  <tbody>\n",
       "    <tr>\n",
       "      <th>0</th>\n",
       "      <td>1</td>\n",
       "      <td>5.1</td>\n",
       "      <td>3.5</td>\n",
       "      <td>1.4</td>\n",
       "      <td>0.2</td>\n",
       "      <td>Iris-setosa</td>\n",
       "    </tr>\n",
       "    <tr>\n",
       "      <th>1</th>\n",
       "      <td>2</td>\n",
       "      <td>4.9</td>\n",
       "      <td>3.0</td>\n",
       "      <td>1.4</td>\n",
       "      <td>0.2</td>\n",
       "      <td>Iris-setosa</td>\n",
       "    </tr>\n",
       "    <tr>\n",
       "      <th>2</th>\n",
       "      <td>3</td>\n",
       "      <td>4.7</td>\n",
       "      <td>3.2</td>\n",
       "      <td>1.3</td>\n",
       "      <td>0.2</td>\n",
       "      <td>Iris-setosa</td>\n",
       "    </tr>\n",
       "    <tr>\n",
       "      <th>3</th>\n",
       "      <td>4</td>\n",
       "      <td>4.6</td>\n",
       "      <td>3.1</td>\n",
       "      <td>1.5</td>\n",
       "      <td>0.2</td>\n",
       "      <td>Iris-setosa</td>\n",
       "    </tr>\n",
       "    <tr>\n",
       "      <th>4</th>\n",
       "      <td>5</td>\n",
       "      <td>5.0</td>\n",
       "      <td>3.6</td>\n",
       "      <td>1.4</td>\n",
       "      <td>0.2</td>\n",
       "      <td>Iris-setosa</td>\n",
       "    </tr>\n",
       "  </tbody>\n",
       "</table>\n",
       "</div>"
      ],
      "text/plain": [
       "   Id  SepalLengthCm  SepalWidthCm  PetalLengthCm  PetalWidthCm      Species\n",
       "0   1            5.1           3.5            1.4           0.2  Iris-setosa\n",
       "1   2            4.9           3.0            1.4           0.2  Iris-setosa\n",
       "2   3            4.7           3.2            1.3           0.2  Iris-setosa\n",
       "3   4            4.6           3.1            1.5           0.2  Iris-setosa\n",
       "4   5            5.0           3.6            1.4           0.2  Iris-setosa"
      ]
     },
     "execution_count": 7,
     "metadata": {},
     "output_type": "execute_result"
    }
   ],
   "source": [
    "data.head()"
   ]
  },
  {
   "cell_type": "code",
   "execution_count": 8,
   "id": "36f53d05",
   "metadata": {},
   "outputs": [],
   "source": [
    "data.rename(columns={'SepalLengthCm':'SL','SepalWidthCm':'SW','PetalLengthCm':'PL','PetalWidthCm':'PW'},inplace = True)"
   ]
  },
  {
   "cell_type": "code",
   "execution_count": 9,
   "id": "f9be6e39",
   "metadata": {},
   "outputs": [],
   "source": [
    "iris_setosa = data[data['Species']=='Iris-setosa']\n",
    "iris_versicolor = data[data['Species']=='Iris-versicolor']\n",
    "iris_virginica = data[data['Species']=='Iris-virginica']"
   ]
  },
  {
   "cell_type": "markdown",
   "id": "846101ac",
   "metadata": {},
   "source": [
    "# Measures of Spread"
   ]
  },
  {
   "cell_type": "markdown",
   "id": "fe2e12d9",
   "metadata": {},
   "source": [
    "## Measures of Spread gives an idea of how much th data is spead or varying. Some important measures of spreada are:\n",
    "    1. Range\n",
    "    2. interquartile range(IQR)\n",
    "    3. Variance\n",
    "    4. Standard Deviation"
   ]
  },
  {
   "cell_type": "markdown",
   "id": "a014104a",
   "metadata": {},
   "source": [
    "### 1. Range"
   ]
  },
  {
   "cell_type": "code",
   "execution_count": 10,
   "id": "9e0d66a8",
   "metadata": {},
   "outputs": [
    {
     "name": "stdout",
     "output_type": "stream",
     "text": [
      "Range of Iris-setosa is 0.8999999999999999\n"
     ]
    }
   ],
   "source": [
    "r = np.max(iris_setosa[\"PL\"]) - np.min(iris_setosa[\"PL\"])\n",
    "print(\"Range of Iris-setosa is\", r)"
   ]
  },
  {
   "cell_type": "markdown",
   "id": "a23aed96",
   "metadata": {},
   "source": [
    "### 2. Percentile"
   ]
  },
  {
   "cell_type": "code",
   "execution_count": 11,
   "id": "6da2e5e0",
   "metadata": {},
   "outputs": [
    {
     "name": "stdout",
     "output_type": "stream",
     "text": [
      "1.8\n",
      "8.2\n"
     ]
    }
   ],
   "source": [
    "# Example of percentile\n",
    "l = [1,2,3,4,5,6,7,8,9]\n",
    "print(np.percentile(l,10))\n",
    "print(np.percentile(l,90))"
   ]
  },
  {
   "cell_type": "code",
   "execution_count": 12,
   "id": "80f42753",
   "metadata": {},
   "outputs": [
    {
     "data": {
      "text/plain": [
       "1.7"
      ]
     },
     "execution_count": 12,
     "metadata": {},
     "output_type": "execute_result"
    }
   ],
   "source": [
    "np.percentile(iris_setosa['PL'],95)"
   ]
  },
  {
   "cell_type": "markdown",
   "id": "42654987",
   "metadata": {},
   "source": [
    "### 3. Quartiles"
   ]
  },
  {
   "cell_type": "markdown",
   "id": "fe0188c9",
   "metadata": {},
   "source": [
    "#### Quartiles are the values that divide a list into quarters:\n",
    "    Put the list of numbers in order\n",
    "    Then cut the list into four equal parts\n",
    "    Quartiles are at the \"cuts\""
   ]
  },
  {
   "cell_type": "code",
   "execution_count": 16,
   "id": "a3d37950",
   "metadata": {},
   "outputs": [
    {
     "data": {
      "text/plain": [
       "1.9"
      ]
     },
     "execution_count": 16,
     "metadata": {},
     "output_type": "execute_result"
    }
   ],
   "source": [
    "np.percentile(iris_setosa['PL'],25)\n",
    "np.percentile(iris_setosa['PL'],50)\n",
    "np.percentile(iris_setosa['PL'],75)\n",
    "np.percentile(iris_setosa['PL'],100)"
   ]
  },
  {
   "cell_type": "markdown",
   "id": "eeba1504",
   "metadata": {},
   "source": [
    "### 4. Interquartile Range"
   ]
  },
  {
   "cell_type": "markdown",
   "id": "5b1b2166",
   "metadata": {},
   "source": [
    "#### IQR  is a measure of statistical dispersion between upper(75th) and lower(25th) quartiles."
   ]
  },
  {
   "cell_type": "code",
   "execution_count": 18,
   "id": "ff99cfa7",
   "metadata": {},
   "outputs": [
    {
     "name": "stdout",
     "output_type": "stream",
     "text": [
      "IQR is 0.17500000000000027\n"
     ]
    }
   ],
   "source": [
    "iqr = np.percentile(iris_setosa['PL'],75) - np.percentile(iris_setosa['PL'],25)\n",
    "print(\"IQR is\", iqr)"
   ]
  },
  {
   "cell_type": "markdown",
   "id": "3b836664",
   "metadata": {},
   "source": [
    "### 5. Mean Absolute Deviation"
   ]
  },
  {
   "cell_type": "code",
   "execution_count": 21,
   "id": "d8337e5e",
   "metadata": {},
   "outputs": [],
   "source": [
    "# Example\n",
    "# 2,5,1,6,7,3,11\n",
    "# mean of these values = 5\n",
    "# |(2-5)+(5-5)+(1-5)+(6-5)+(7-5)+(3-5)+(11-5)| = 3+0+4+1+2+2+6 = 18/7 \n",
    "# 2.5 is MAD"
   ]
  },
  {
   "cell_type": "markdown",
   "id": "1dfefdb8",
   "metadata": {},
   "source": [
    "### 6. Variance"
   ]
  },
  {
   "cell_type": "code",
   "execution_count": 22,
   "id": "fc0ab29b",
   "metadata": {},
   "outputs": [],
   "source": [
    "# Example\n",
    "# 2,5,1,6,7,3,11\n",
    "# mean of these values = 5\n",
    "# (2-5)^2+(5-5)^2+(1-5)^2+(6-5)^2+(7-5)^2+(3-5)^2+(11-5)^2/7 = 9+0+16+1+4+4+36 = 70/7 \n",
    "# 10 is Variance"
   ]
  },
  {
   "cell_type": "code",
   "execution_count": 23,
   "id": "415c37c2",
   "metadata": {},
   "outputs": [
    {
     "data": {
      "text/plain": [
       "0.029504000000000002"
      ]
     },
     "execution_count": 23,
     "metadata": {},
     "output_type": "execute_result"
    }
   ],
   "source": [
    "np.var(iris_setosa['PL'])"
   ]
  },
  {
   "cell_type": "markdown",
   "id": "32a177eb",
   "metadata": {},
   "source": [
    "### 7. Standard Deviation"
   ]
  },
  {
   "cell_type": "code",
   "execution_count": 24,
   "id": "168db4f3",
   "metadata": {},
   "outputs": [],
   "source": [
    "# Example\n",
    "# 2,5,1,6,7,3,11\n",
    "# mean of these values = 5\n",
    "# (2-5)^2+(5-5)^2+(1-5)^2+(6-5)^2+(7-5)^2+(3-5)^2+(11-5)^2/7 = 9+0+16+1+4+4+36 = 70/7 \n",
    "# sqrt(10) = 3.16"
   ]
  },
  {
   "cell_type": "code",
   "execution_count": 25,
   "id": "2ffd21f2",
   "metadata": {},
   "outputs": [
    {
     "data": {
      "text/plain": [
       "0.17176728442867112"
      ]
     },
     "execution_count": 25,
     "metadata": {},
     "output_type": "execute_result"
    }
   ],
   "source": [
    "np.std(iris_setosa['PL'])"
   ]
  },
  {
   "cell_type": "markdown",
   "id": "668f7317",
   "metadata": {},
   "source": [
    "### 8. Median Absolute Deviation"
   ]
  },
  {
   "cell_type": "code",
   "execution_count": 26,
   "id": "c841b1af",
   "metadata": {},
   "outputs": [],
   "source": [
    "# Example\n",
    "# 1,3,5,6,7,8,9\n",
    "# median is 6\n",
    "# |(1-6),|(3-6)|,|(5-6)|,|(6-6)|,|(7-6)|,|(8-6)|,|(9-6)| = 5,3,1,0,1,2,3\n",
    "# in order = 0,,1,1,2,3,3,5\n",
    "#MAD is 2"
   ]
  },
  {
   "cell_type": "code",
   "execution_count": null,
   "id": "4dc12ef1",
   "metadata": {},
   "outputs": [],
   "source": []
  }
 ],
 "metadata": {
  "kernelspec": {
   "display_name": "Python 3 (ipykernel)",
   "language": "python",
   "name": "python3"
  },
  "language_info": {
   "codemirror_mode": {
    "name": "ipython",
    "version": 3
   },
   "file_extension": ".py",
   "mimetype": "text/x-python",
   "name": "python",
   "nbconvert_exporter": "python",
   "pygments_lexer": "ipython3",
   "version": "3.9.1"
  }
 },
 "nbformat": 4,
 "nbformat_minor": 5
}
